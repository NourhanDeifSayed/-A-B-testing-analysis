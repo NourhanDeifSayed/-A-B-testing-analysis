{
  "nbformat": 4,
  "nbformat_minor": 0,
  "metadata": {
    "colab": {
      "provenance": [],
      "authorship_tag": "ABX9TyMAagfZa3RfrYsyAXkjorOO",
      "include_colab_link": true
    },
    "kernelspec": {
      "name": "python3",
      "display_name": "Python 3"
    },
    "language_info": {
      "name": "python"
    }
  },
  "cells": [
    {
      "cell_type": "markdown",
      "metadata": {
        "id": "view-in-github",
        "colab_type": "text"
      },
      "source": [
        "<a href=\"https://colab.research.google.com/github/NourhanDeifSayed/-A-B-testing-analysis/blob/main/Copy_of_A_B_testing_analysis.ipynb\" target=\"_parent\"><img src=\"https://colab.research.google.com/assets/colab-badge.svg\" alt=\"Open In Colab\"/></a>"
      ]
    },
    {
      "cell_type": "code",
      "execution_count": null,
      "metadata": {
        "id": "qg-9Yc8AEHDo"
      },
      "outputs": [],
      "source": [
        "import numpy as np\n",
        "\n",
        "\n",
        "import matplotlib.pyplot as plt\n",
        "\n",
        "\n",
        "import seaborn as sns\n",
        "\n",
        "import pandas as pd\n",
        "\n",
        "import warnings\n",
        "\n",
        "warnings.filterwarnings(\"ignore\")"
      ]
    },
    {
      "cell_type": "code",
      "source": [
        "#read the file\n",
        "\n",
        "data=pd.read_csv(\"marketing_AB.csv\")"
      ],
      "metadata": {
        "id": "hnxWDmJHFhcZ"
      },
      "execution_count": null,
      "outputs": []
    },
    {
      "cell_type": "code",
      "source": [
        "data.head()"
      ],
      "metadata": {
        "colab": {
          "base_uri": "https://localhost:8080/",
          "height": 206
        },
        "id": "FiM2joRiJyU9",
        "outputId": "a92efa00-2dd5-4a16-8a22-409686ce4497"
      },
      "execution_count": null,
      "outputs": [
        {
          "output_type": "execute_result",
          "data": {
            "text/plain": [
              "   Unnamed: 0  user id test group  converted  total ads most ads day  \\\n",
              "0           0  1069124         ad      False        130       Monday   \n",
              "1           1  1119715         ad      False         93      Tuesday   \n",
              "2           2  1144181         ad      False         21      Tuesday   \n",
              "3           3  1435133         ad      False        355      Tuesday   \n",
              "4           4  1015700         ad      False        276       Friday   \n",
              "\n",
              "   most ads hour  \n",
              "0             20  \n",
              "1             22  \n",
              "2             18  \n",
              "3             10  \n",
              "4             14  "
            ],
            "text/html": [
              "\n",
              "  <div id=\"df-87158b89-77c2-43d9-ac5e-399e2304d2f3\" class=\"colab-df-container\">\n",
              "    <div>\n",
              "<style scoped>\n",
              "    .dataframe tbody tr th:only-of-type {\n",
              "        vertical-align: middle;\n",
              "    }\n",
              "\n",
              "    .dataframe tbody tr th {\n",
              "        vertical-align: top;\n",
              "    }\n",
              "\n",
              "    .dataframe thead th {\n",
              "        text-align: right;\n",
              "    }\n",
              "</style>\n",
              "<table border=\"1\" class=\"dataframe\">\n",
              "  <thead>\n",
              "    <tr style=\"text-align: right;\">\n",
              "      <th></th>\n",
              "      <th>Unnamed: 0</th>\n",
              "      <th>user id</th>\n",
              "      <th>test group</th>\n",
              "      <th>converted</th>\n",
              "      <th>total ads</th>\n",
              "      <th>most ads day</th>\n",
              "      <th>most ads hour</th>\n",
              "    </tr>\n",
              "  </thead>\n",
              "  <tbody>\n",
              "    <tr>\n",
              "      <th>0</th>\n",
              "      <td>0</td>\n",
              "      <td>1069124</td>\n",
              "      <td>ad</td>\n",
              "      <td>False</td>\n",
              "      <td>130</td>\n",
              "      <td>Monday</td>\n",
              "      <td>20</td>\n",
              "    </tr>\n",
              "    <tr>\n",
              "      <th>1</th>\n",
              "      <td>1</td>\n",
              "      <td>1119715</td>\n",
              "      <td>ad</td>\n",
              "      <td>False</td>\n",
              "      <td>93</td>\n",
              "      <td>Tuesday</td>\n",
              "      <td>22</td>\n",
              "    </tr>\n",
              "    <tr>\n",
              "      <th>2</th>\n",
              "      <td>2</td>\n",
              "      <td>1144181</td>\n",
              "      <td>ad</td>\n",
              "      <td>False</td>\n",
              "      <td>21</td>\n",
              "      <td>Tuesday</td>\n",
              "      <td>18</td>\n",
              "    </tr>\n",
              "    <tr>\n",
              "      <th>3</th>\n",
              "      <td>3</td>\n",
              "      <td>1435133</td>\n",
              "      <td>ad</td>\n",
              "      <td>False</td>\n",
              "      <td>355</td>\n",
              "      <td>Tuesday</td>\n",
              "      <td>10</td>\n",
              "    </tr>\n",
              "    <tr>\n",
              "      <th>4</th>\n",
              "      <td>4</td>\n",
              "      <td>1015700</td>\n",
              "      <td>ad</td>\n",
              "      <td>False</td>\n",
              "      <td>276</td>\n",
              "      <td>Friday</td>\n",
              "      <td>14</td>\n",
              "    </tr>\n",
              "  </tbody>\n",
              "</table>\n",
              "</div>\n",
              "    <div class=\"colab-df-buttons\">\n",
              "\n",
              "  <div class=\"colab-df-container\">\n",
              "    <button class=\"colab-df-convert\" onclick=\"convertToInteractive('df-87158b89-77c2-43d9-ac5e-399e2304d2f3')\"\n",
              "            title=\"Convert this dataframe to an interactive table.\"\n",
              "            style=\"display:none;\">\n",
              "\n",
              "  <svg xmlns=\"http://www.w3.org/2000/svg\" height=\"24px\" viewBox=\"0 -960 960 960\">\n",
              "    <path d=\"M120-120v-720h720v720H120Zm60-500h600v-160H180v160Zm220 220h160v-160H400v160Zm0 220h160v-160H400v160ZM180-400h160v-160H180v160Zm440 0h160v-160H620v160ZM180-180h160v-160H180v160Zm440 0h160v-160H620v160Z\"/>\n",
              "  </svg>\n",
              "    </button>\n",
              "\n",
              "  <style>\n",
              "    .colab-df-container {\n",
              "      display:flex;\n",
              "      gap: 12px;\n",
              "    }\n",
              "\n",
              "    .colab-df-convert {\n",
              "      background-color: #E8F0FE;\n",
              "      border: none;\n",
              "      border-radius: 50%;\n",
              "      cursor: pointer;\n",
              "      display: none;\n",
              "      fill: #1967D2;\n",
              "      height: 32px;\n",
              "      padding: 0 0 0 0;\n",
              "      width: 32px;\n",
              "    }\n",
              "\n",
              "    .colab-df-convert:hover {\n",
              "      background-color: #E2EBFA;\n",
              "      box-shadow: 0px 1px 2px rgba(60, 64, 67, 0.3), 0px 1px 3px 1px rgba(60, 64, 67, 0.15);\n",
              "      fill: #174EA6;\n",
              "    }\n",
              "\n",
              "    .colab-df-buttons div {\n",
              "      margin-bottom: 4px;\n",
              "    }\n",
              "\n",
              "    [theme=dark] .colab-df-convert {\n",
              "      background-color: #3B4455;\n",
              "      fill: #D2E3FC;\n",
              "    }\n",
              "\n",
              "    [theme=dark] .colab-df-convert:hover {\n",
              "      background-color: #434B5C;\n",
              "      box-shadow: 0px 1px 3px 1px rgba(0, 0, 0, 0.15);\n",
              "      filter: drop-shadow(0px 1px 2px rgba(0, 0, 0, 0.3));\n",
              "      fill: #FFFFFF;\n",
              "    }\n",
              "  </style>\n",
              "\n",
              "    <script>\n",
              "      const buttonEl =\n",
              "        document.querySelector('#df-87158b89-77c2-43d9-ac5e-399e2304d2f3 button.colab-df-convert');\n",
              "      buttonEl.style.display =\n",
              "        google.colab.kernel.accessAllowed ? 'block' : 'none';\n",
              "\n",
              "      async function convertToInteractive(key) {\n",
              "        const element = document.querySelector('#df-87158b89-77c2-43d9-ac5e-399e2304d2f3');\n",
              "        const dataTable =\n",
              "          await google.colab.kernel.invokeFunction('convertToInteractive',\n",
              "                                                    [key], {});\n",
              "        if (!dataTable) return;\n",
              "\n",
              "        const docLinkHtml = 'Like what you see? Visit the ' +\n",
              "          '<a target=\"_blank\" href=https://colab.research.google.com/notebooks/data_table.ipynb>data table notebook</a>'\n",
              "          + ' to learn more about interactive tables.';\n",
              "        element.innerHTML = '';\n",
              "        dataTable['output_type'] = 'display_data';\n",
              "        await google.colab.output.renderOutput(dataTable, element);\n",
              "        const docLink = document.createElement('div');\n",
              "        docLink.innerHTML = docLinkHtml;\n",
              "        element.appendChild(docLink);\n",
              "      }\n",
              "    </script>\n",
              "  </div>\n",
              "\n",
              "\n",
              "<div id=\"df-26b4a4ed-498e-4992-b605-2beeb90e86ae\">\n",
              "  <button class=\"colab-df-quickchart\" onclick=\"quickchart('df-26b4a4ed-498e-4992-b605-2beeb90e86ae')\"\n",
              "            title=\"Suggest charts\"\n",
              "            style=\"display:none;\">\n",
              "\n",
              "<svg xmlns=\"http://www.w3.org/2000/svg\" height=\"24px\"viewBox=\"0 0 24 24\"\n",
              "     width=\"24px\">\n",
              "    <g>\n",
              "        <path d=\"M19 3H5c-1.1 0-2 .9-2 2v14c0 1.1.9 2 2 2h14c1.1 0 2-.9 2-2V5c0-1.1-.9-2-2-2zM9 17H7v-7h2v7zm4 0h-2V7h2v10zm4 0h-2v-4h2v4z\"/>\n",
              "    </g>\n",
              "</svg>\n",
              "  </button>\n",
              "\n",
              "<style>\n",
              "  .colab-df-quickchart {\n",
              "      --bg-color: #E8F0FE;\n",
              "      --fill-color: #1967D2;\n",
              "      --hover-bg-color: #E2EBFA;\n",
              "      --hover-fill-color: #174EA6;\n",
              "      --disabled-fill-color: #AAA;\n",
              "      --disabled-bg-color: #DDD;\n",
              "  }\n",
              "\n",
              "  [theme=dark] .colab-df-quickchart {\n",
              "      --bg-color: #3B4455;\n",
              "      --fill-color: #D2E3FC;\n",
              "      --hover-bg-color: #434B5C;\n",
              "      --hover-fill-color: #FFFFFF;\n",
              "      --disabled-bg-color: #3B4455;\n",
              "      --disabled-fill-color: #666;\n",
              "  }\n",
              "\n",
              "  .colab-df-quickchart {\n",
              "    background-color: var(--bg-color);\n",
              "    border: none;\n",
              "    border-radius: 50%;\n",
              "    cursor: pointer;\n",
              "    display: none;\n",
              "    fill: var(--fill-color);\n",
              "    height: 32px;\n",
              "    padding: 0;\n",
              "    width: 32px;\n",
              "  }\n",
              "\n",
              "  .colab-df-quickchart:hover {\n",
              "    background-color: var(--hover-bg-color);\n",
              "    box-shadow: 0 1px 2px rgba(60, 64, 67, 0.3), 0 1px 3px 1px rgba(60, 64, 67, 0.15);\n",
              "    fill: var(--button-hover-fill-color);\n",
              "  }\n",
              "\n",
              "  .colab-df-quickchart-complete:disabled,\n",
              "  .colab-df-quickchart-complete:disabled:hover {\n",
              "    background-color: var(--disabled-bg-color);\n",
              "    fill: var(--disabled-fill-color);\n",
              "    box-shadow: none;\n",
              "  }\n",
              "\n",
              "  .colab-df-spinner {\n",
              "    border: 2px solid var(--fill-color);\n",
              "    border-color: transparent;\n",
              "    border-bottom-color: var(--fill-color);\n",
              "    animation:\n",
              "      spin 1s steps(1) infinite;\n",
              "  }\n",
              "\n",
              "  @keyframes spin {\n",
              "    0% {\n",
              "      border-color: transparent;\n",
              "      border-bottom-color: var(--fill-color);\n",
              "      border-left-color: var(--fill-color);\n",
              "    }\n",
              "    20% {\n",
              "      border-color: transparent;\n",
              "      border-left-color: var(--fill-color);\n",
              "      border-top-color: var(--fill-color);\n",
              "    }\n",
              "    30% {\n",
              "      border-color: transparent;\n",
              "      border-left-color: var(--fill-color);\n",
              "      border-top-color: var(--fill-color);\n",
              "      border-right-color: var(--fill-color);\n",
              "    }\n",
              "    40% {\n",
              "      border-color: transparent;\n",
              "      border-right-color: var(--fill-color);\n",
              "      border-top-color: var(--fill-color);\n",
              "    }\n",
              "    60% {\n",
              "      border-color: transparent;\n",
              "      border-right-color: var(--fill-color);\n",
              "    }\n",
              "    80% {\n",
              "      border-color: transparent;\n",
              "      border-right-color: var(--fill-color);\n",
              "      border-bottom-color: var(--fill-color);\n",
              "    }\n",
              "    90% {\n",
              "      border-color: transparent;\n",
              "      border-bottom-color: var(--fill-color);\n",
              "    }\n",
              "  }\n",
              "</style>\n",
              "\n",
              "  <script>\n",
              "    async function quickchart(key) {\n",
              "      const quickchartButtonEl =\n",
              "        document.querySelector('#' + key + ' button');\n",
              "      quickchartButtonEl.disabled = true;  // To prevent multiple clicks.\n",
              "      quickchartButtonEl.classList.add('colab-df-spinner');\n",
              "      try {\n",
              "        const charts = await google.colab.kernel.invokeFunction(\n",
              "            'suggestCharts', [key], {});\n",
              "      } catch (error) {\n",
              "        console.error('Error during call to suggestCharts:', error);\n",
              "      }\n",
              "      quickchartButtonEl.classList.remove('colab-df-spinner');\n",
              "      quickchartButtonEl.classList.add('colab-df-quickchart-complete');\n",
              "    }\n",
              "    (() => {\n",
              "      let quickchartButtonEl =\n",
              "        document.querySelector('#df-26b4a4ed-498e-4992-b605-2beeb90e86ae button');\n",
              "      quickchartButtonEl.style.display =\n",
              "        google.colab.kernel.accessAllowed ? 'block' : 'none';\n",
              "    })();\n",
              "  </script>\n",
              "</div>\n",
              "    </div>\n",
              "  </div>\n"
            ],
            "application/vnd.google.colaboratory.intrinsic+json": {
              "type": "dataframe",
              "variable_name": "data"
            }
          },
          "metadata": {},
          "execution_count": 4
        }
      ]
    },
    {
      "cell_type": "code",
      "source": [
        "#check the number of duplicate\n",
        "data.duplicated(subset='user id').sum()"
      ],
      "metadata": {
        "colab": {
          "base_uri": "https://localhost:8080/"
        },
        "id": "uJdSNQCNJ03S",
        "outputId": "567b740e-19f8-4407-f154-1077b306ecc9"
      },
      "execution_count": null,
      "outputs": [
        {
          "output_type": "execute_result",
          "data": {
            "text/plain": [
              "0"
            ]
          },
          "metadata": {},
          "execution_count": 5
        }
      ]
    },
    {
      "cell_type": "code",
      "source": [
        "data.drop('Unnamed: 0',axis=1 , inplace =True)"
      ],
      "metadata": {
        "id": "eBRaXwOVK-GK"
      },
      "execution_count": null,
      "outputs": []
    },
    {
      "cell_type": "code",
      "source": [
        "data.columns"
      ],
      "metadata": {
        "colab": {
          "base_uri": "https://localhost:8080/"
        },
        "id": "gGy0MnEnKoRA",
        "outputId": "6d5821ab-7518-4bc9-bc3a-a28abeeeeb61"
      },
      "execution_count": null,
      "outputs": [
        {
          "output_type": "execute_result",
          "data": {
            "text/plain": [
              "Index(['user id', 'test group', 'converted', 'total ads', 'most ads day',\n",
              "       'most ads hour'],\n",
              "      dtype='object')"
            ]
          },
          "metadata": {},
          "execution_count": 11
        }
      ]
    },
    {
      "cell_type": "code",
      "source": [
        "data_cate=data[['user id','test group','converted','total ads','most ads day']]\n",
        "\n",
        "data_cate.nunique()"
      ],
      "metadata": {
        "colab": {
          "base_uri": "https://localhost:8080/"
        },
        "id": "nfTzZukVK0Lb",
        "outputId": "509be8cc-fc13-4f28-e215-b5037b24cc90"
      },
      "execution_count": null,
      "outputs": [
        {
          "output_type": "execute_result",
          "data": {
            "text/plain": [
              "user id         588101\n",
              "test group           2\n",
              "converted            2\n",
              "total ads          807\n",
              "most ads day         7\n",
              "dtype: int64"
            ]
          },
          "metadata": {},
          "execution_count": 12
        }
      ]
    },
    {
      "cell_type": "code",
      "source": [
        "for i in data_cate.columns:\n",
        "  print(i.upper(),\":\",data_cate[i].unique())\n"
      ],
      "metadata": {
        "colab": {
          "base_uri": "https://localhost:8080/"
        },
        "id": "QY0kFBn3LQOJ",
        "outputId": "8096af58-53ce-4110-af35-0971753d5839"
      },
      "execution_count": null,
      "outputs": [
        {
          "output_type": "stream",
          "name": "stdout",
          "text": [
            "USER ID : [1069124 1119715 1144181 ... 1038442 1496395 1237779]\n",
            "TEST GROUP : ['ad' 'psa']\n",
            "CONVERTED : [False  True]\n",
            "TOTAL ADS : [ 130   93   21  355  276  734  264   17  142  209   47   61   40   20\n",
            "    9   64   26  248   73  281  389  136   87   46    3  114  175  119\n",
            "  313   89  364   24  112   49   27  274   45  177   90  265   71   31\n",
            "  588   56  108  103  239   63   66  111   74   14  258 1057  137  131\n",
            "  124   13   37  738  199  211   98   19  127   18  126  197   77   60\n",
            "   95   97   22  117   41   57  593   28   85   53   43  133   33 1328\n",
            "    7    6   62  247  464   99  233  139  407  323   76  395  166   34\n",
            "  246  653  122   32  386   44  138  109   39  159   30   59  421  446\n",
            "  555  105  128  310  163   10  290  164   79  312   16  161  505  640\n",
            "  118  266  456   80  100  983   36    1    5  463  720   52  442  334\n",
            " 1056  270  240  194  271  489  115  180  241   15  154  120   29  107\n",
            "  176    8  146  121   50   69  297   35   78  170  214   81    2   38\n",
            "  681  733   23  157  153  135   88  167    4   58  195  318   48   83\n",
            "   96  392  371   91   68  427  516  249   54   11   25  171   55  403\n",
            "  140  455  222   82  168  225  633  116  188  423   70  110  311  174\n",
            "  208   92  172  657  260  191  173  245  150   84  134  526  607   75\n",
            "  302   94  294  288   42  123  179  160   51  190  221  216  347  102\n",
            "   65 1632  106  125  317  206  350  202  148  145  525  445  309  186\n",
            "  486  380  178  321  205   86  149  413   67  587  351  147  144  470\n",
            "  387  335  235  306  230  535  181  401  394  568  155  326  308  617\n",
            "   12  655  158  375  237  104  218  215  345  141  253   72  193  700\n",
            "  400 1015  360 1128  292  151  224  779  213  304  220  207  261  536\n",
            "  515  184  152  232  490  228  532  790  203  285  234  429  325  231\n",
            "  101  393  129  352  182  332  307  378  226  642  385  187  452  132\n",
            "  504  143  198  243  269  447  287  468  338  185  728  169  113  991\n",
            "  514  554  571  192  298  242  542  698  196 1173  183  466  156  257\n",
            "  189  305  438  212  461  286  252  521  162  354  353  857  315  272\n",
            "  284  262  374  283  675  566  582  399  411  368  404  280  487  602\n",
            "  443  950  362  523  301  259  165  376  219  679  358 1021  251  282\n",
            "  329 1135  383  761  481  291  594  688  328  238  327  441  430  434\n",
            "  300  416  357  275  558  448  499  279  546  359  426  817  433  610\n",
            " 1010  343  341  420  474  622  654  348  459  507  250  388  592  200\n",
            "  322  227  802  295  467  217  806  414  599  612  316  415  631  256\n",
            "  606  278  320 1011  236  223  739  444  396  758 1020  370  947  277\n",
            "  485  412  436  477  273  541  244  825  613  263  204  342  372  805\n",
            "  356  267  820  852  408  809  268  324  379  527  336  503  465  451\n",
            "  432  480  719  771  629  473  254  552  484  603  210  373  417  425\n",
            "  418  584  391  479  938  361  424  497 1129  687  303  369  569  628\n",
            "  563  330  201  670  564  586  842  337  339  314  630  491  731  340\n",
            "  382  296  492  502  601  437  509  346  494  804  501  540  595  578\n",
            "  920  493  794  293  518  440  652  598  724  344  764 1680  641  365\n",
            " 1100  410  907  333  255  506  331  845  435  742  496  667  705  689\n",
            "  457  591  495  551  608  319  367  402  619  299  647  522 1229  562\n",
            " 1398  229  377  634  478  703  662  556  462  483  431  405  710  636\n",
            "  775  539  557  574  714  609  524  449  476  544  545  512  428  678\n",
            "  406  797  639  702 1016  453  482  575  289  745  381  397  621  909\n",
            "  585  580  409 1491  727  926  711  815  419 1302  735 1035  517  716\n",
            "  789 1014  572  363 1414  643  627  645  753  533  887  384  704  709\n",
            "  460  854 1267  663  488  439  547  840  472  510  863  520  366  781\n",
            "  769  511  744  398  743  646  349  865  538  422  660 1003  615  549\n",
            "  894  500  713  723  915 1321 2065 1354  722  561 1101  519  560  471\n",
            " 1196  665  828  573  961  799  651  454  597  648  934  620  690 1778\n",
            "  616  637  624  390  530  772  604  656  760  786  469  649  925  798\n",
            "  548  611  841  625  691  888  932  695  785 1146  891  883  581  911\n",
            "  565  638  550  583  800  664 1391  699  827  791  579  955  901  570\n",
            "  763  672  812  669  788  596  458  986 1232 1032  908  873  923  567\n",
            "  730  498  792  543  759  885  858  869  508  475  450  659  559  712\n",
            "  684  904  680  706  921  673  952  808  729]\n",
            "MOST ADS DAY : ['Monday' 'Tuesday' 'Friday' 'Saturday' 'Wednesday' 'Sunday' 'Thursday']\n"
          ]
        }
      ]
    },
    {
      "cell_type": "code",
      "source": [
        "variable=\"test group\"\n",
        "\n",
        "#count plot\n",
        "plt.figure(figsize=(6,4))\n",
        "plt.subplot(1,2,1)\n",
        "sns.countplot(x=variable,data=data_cate)\n",
        "plt.title(f'Count plot-{variable}')\n",
        "\n",
        "\n",
        "#pie chart\n",
        "\n",
        "plt.subplot(1,2,2)\n",
        "\n",
        "count=data_cate[variable].value_counts()\n",
        "plt.pie(count,labels=count.index , autopct='%0.2f%%')\n",
        "plt.title(f'pie chart-{variable}')\n",
        "\n",
        "plt.show()\n",
        "\n",
        "\n"
      ],
      "metadata": {
        "colab": {
          "base_uri": "https://localhost:8080/",
          "height": 410
        },
        "id": "W1OwpfdtNIGU",
        "outputId": "4f337a14-62f3-4219-cbd7-379974320118"
      },
      "execution_count": null,
      "outputs": [
        {
          "output_type": "display_data",
          "data": {
            "text/plain": [
              "<Figure size 600x400 with 2 Axes>"
            ],
            "image/png": "[encoded data removed]"
          },
          "metadata": {}
        }
      ]
    }
  ]
}